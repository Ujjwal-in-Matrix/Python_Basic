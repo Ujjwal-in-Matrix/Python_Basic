{
 "cells": [
  {
   "cell_type": "code",
   "execution_count": 7,
   "id": "9590b1d9-4ed7-4259-9236-d1f7cb48fbc3",
   "metadata": {},
   "outputs": [],
   "source": [
    "indian_employees = [[\"Raj\", \"Patel\"],[\"Priya\",\"Sharma\"],[\"Amit\",\"Kumar\"],[\"Neha\",\"Singh\"]]"
   ]
  },
  {
   "cell_type": "code",
   "execution_count": 11,
   "id": "df2ea6f1-2b51-4007-9393-79578d9b84cb",
   "metadata": {},
   "outputs": [
    {
     "name": "stdout",
     "output_type": "stream",
     "text": [
      "RajPatel@gmail.com\n",
      "PriyaSharma@gmail.com\n",
      "AmitKumar@gmail.com\n",
      "NehaSingh@gmail.com\n"
     ]
    }
   ],
   "source": [
    "for employee in indian_employees:\n",
    "    first_name = employee[0]\n",
    "    last_name = employee[1]\n",
    "    email = first_name + last_name + \"@gmail.com\"\n",
    "    print(email)"
   ]
  },
  {
   "cell_type": "code",
   "execution_count": null,
   "id": "f54761bc-ad64-4691-af24-2675a5dbaf5d",
   "metadata": {},
   "outputs": [],
   "source": []
  }
 ],
 "metadata": {
  "kernelspec": {
   "display_name": "Python 3 (ipykernel)",
   "language": "python",
   "name": "python3"
  },
  "language_info": {
   "codemirror_mode": {
    "name": "ipython",
    "version": 3
   },
   "file_extension": ".py",
   "mimetype": "text/x-python",
   "name": "python",
   "nbconvert_exporter": "python",
   "pygments_lexer": "ipython3",
   "version": "3.12.4"
  }
 },
 "nbformat": 4,
 "nbformat_minor": 5
}

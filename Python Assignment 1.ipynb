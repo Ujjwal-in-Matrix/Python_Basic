{
 "cells": [
  {
   "cell_type": "code",
   "execution_count": null,
   "id": "3c999b91-dc95-4035-8704-7b2d72d17d2f",
   "metadata": {},
   "outputs": [],
   "source": [
    "1. In the below elements which of them are values or an expression? eg:- values can be\n",
    "integer or string and expressions will be mathematical operators.\n",
    "\n",
    "*\n",
    "'hello'\n",
    "-87.8\n",
    "-\n",
    "/\n",
    "+\n",
    "6"
   ]
  },
  {
   "cell_type": "code",
   "execution_count": null,
   "id": "0b0e9144-3977-4198-8c51-857fbc1c4781",
   "metadata": {},
   "outputs": [],
   "source": [
    "Ans: * - Mathematical Operator\n",
    "'hello' - string\n",
    "-87.8 - Negative Integer\n",
    "-  -  Mathematical Operator\n",
    "/ - Mathematical Operator\n",
    "+ - Mathematical Operator\n",
    "6 - Integer"
   ]
  },
  {
   "cell_type": "code",
   "execution_count": null,
   "id": "1fd447cc-f441-4ac0-94d2-2e4fdc97128e",
   "metadata": {},
   "outputs": [],
   "source": [
    "2. What is the difference between string and variable?"
   ]
  },
  {
   "cell_type": "code",
   "execution_count": null,
   "id": "f84647cc-39dc-461a-aec2-6d5a909b101a",
   "metadata": {},
   "outputs": [],
   "source": [
    "Ans: (1) A string is a sequence of characters enclosed within quotes. It can be represented using single ('...'), double (\"...\"),\n",
    "or triple quotes ('''...''' or \"\"\"...\"\"\").\n",
    "\n",
    "(2) Strings are used to store and manipulate text data.\n",
    "(3) Example of a string:\n",
    "\n",
    "\"Hello, World!\"\n",
    "'Python is fun!'"
   ]
  },
  {
   "cell_type": "code",
   "execution_count": null,
   "id": "699ac907-9c67-420b-9002-cca4a891a462",
   "metadata": {},
   "outputs": [],
   "source": [
    "3. Describe three different data types."
   ]
  },
  {
   "cell_type": "code",
   "execution_count": null,
   "id": "85f12e32-cfe4-4648-8685-68aecf9422bc",
   "metadata": {},
   "outputs": [],
   "source": [
    "Ans: 1. Integer (int)\n",
    "(i) Represents whole numbers without a fractional component. Examples: 10, -3, 42\n",
    "(ii) Use: For counting, indexing, mathematical operations where only whole numbers are needed.\n",
    "(iii) Example in code: age = 25\n",
    "\n",
    "\n",
    "2. Float (float)\n",
    "(i) Represents numbers with a decimal point (fractional component). Examples: 3.14, -0.5, 2.71828\n",
    "(ii) Use: For calculations that require precision, like measurements, scientific data, or financial calculations.\n",
    "(iii) Example in code: temperature = 98.6\n",
    "\n",
    "\n",
    "3. String (str)\n",
    "(i) Represents a sequence of characters, used for text data. Examples: \"Hello, World!\", 'Python 3.9'\n",
    "(ii) Use: For storing and manipulating text, such as names, sentences, or any data that requires textual representation.\n",
    "(iii) Example in code: name = \"Alice\""
   ]
  },
  {
   "cell_type": "code",
   "execution_count": null,
   "id": "23cc97ef-b3f4-4344-9da1-dac98e796bdf",
   "metadata": {},
   "outputs": [],
   "source": [
    "4. What is an expression made up of? What do all expressions do?"
   ]
  },
  {
   "cell_type": "code",
   "execution_count": null,
   "id": "6135b3ff-7b8d-4a7a-b3f8-0e8603c42490",
   "metadata": {},
   "outputs": [],
   "source": [
    "Ans: (1) An expression in Python is a combination of variables, values, operators, and function calls that, when evaluated, produces a single value. \n",
    "It can be as simple as a single constant like 5 or as complex as a mathematical formula like (x + y) * z. \n",
    "\n",
    "(2) Expressions can include arithmetic operators (e.g., +, -, *, /), comparison operators (e.g., >, <, ==), \n",
    "logical operators (e.g., and, or, not), and even function calls that return a value. \n",
    "\n",
    "(3) The purpose of an expression is to compute or derive a value from the given inputs, such as assignments or control flow statements. \n",
    "For instance, in the expression 3 + 4, the result is 7, which is the value produced by adding 3 and 4.\n",
    "\n",
    "(4) Ultimately, all expressions are evaluated to yield a value, making them fundamental building blocks in programming \n",
    "for performing calculations, making decisions, and controlling the flow of a program."
   ]
  },
  {
   "cell_type": "code",
   "execution_count": null,
   "id": "29c7a6a5-3c81-44be-b550-b429f3ff0afa",
   "metadata": {},
   "outputs": [],
   "source": [
    "5. This assignment statements, like spam = 10. What is the difference between an expression and a statement?"
   ]
  },
  {
   "cell_type": "code",
   "execution_count": null,
   "id": "0e82d63b-f600-4de4-9d37-5ee950a55ca5",
   "metadata": {},
   "outputs": [],
   "source": [
    "Ans: The difference between an expression and a statement in Python is fundamental to understanding how code executes:\n",
    "\n",
    "(a) Expression : (i) An expression is a combination of values, variables, operators, and function calls that the Python interpreter can evaluate to produce a single value. For example, 2 + 3, len(\"hello\"), or x * y are all expressions.\n",
    "Expressions always yield a value. They are often used in places where a value is needed, such as in assignments, function arguments, or conditions.\n",
    "\n",
    "(b) Statements : Statements don't produce a value, and so they can't be used as function arguments."
   ]
  },
  {
   "cell_type": "code",
   "execution_count": null,
   "id": "b20f52a4-880c-45b4-afd5-286760d7eb47",
   "metadata": {},
   "outputs": [],
   "source": [
    "6. After running the following code, what does the variable bacon contain?\n",
    "bacon = 22\n",
    "bacon + 1"
   ]
  },
  {
   "cell_type": "code",
   "execution_count": 1,
   "id": "1ab646a8-699d-4b55-bc80-6cdcf8b463a5",
   "metadata": {},
   "outputs": [],
   "source": [
    "bacon = 22"
   ]
  },
  {
   "cell_type": "code",
   "execution_count": 5,
   "id": "5c26e33f-7a04-4562-8245-88829d44d6a8",
   "metadata": {},
   "outputs": [
    {
     "data": {
      "text/plain": [
       "23"
      ]
     },
     "execution_count": 5,
     "metadata": {},
     "output_type": "execute_result"
    }
   ],
   "source": [
    "bacon + 1"
   ]
  },
  {
   "cell_type": "code",
   "execution_count": null,
   "id": "f857254b-5cf1-44be-ad01-64aeaddad6a0",
   "metadata": {},
   "outputs": [],
   "source": [
    "After running the following code, the variable bacon will contain value 23."
   ]
  },
  {
   "cell_type": "code",
   "execution_count": null,
   "id": "2cd6759a-ad3e-4dbb-8339-16b6cec9642f",
   "metadata": {},
   "outputs": [],
   "source": [
    "7. What should the values of the following two terms be?\n",
    "\n",
    "'spam' + 'spamspam'\n",
    "'spam'* 3"
   ]
  },
  {
   "cell_type": "code",
   "execution_count": 7,
   "id": "8dc33fa0-9695-4b0b-ac30-d2842b109abe",
   "metadata": {},
   "outputs": [
    {
     "data": {
      "text/plain": [
       "'spamspamspam'"
      ]
     },
     "execution_count": 7,
     "metadata": {},
     "output_type": "execute_result"
    }
   ],
   "source": [
    "'spam' + 'spamspam'"
   ]
  },
  {
   "cell_type": "code",
   "execution_count": 9,
   "id": "fcc26eb1-2759-48fd-862b-66cec66af4ac",
   "metadata": {},
   "outputs": [
    {
     "data": {
      "text/plain": [
       "'spamspamspam'"
      ]
     },
     "execution_count": 9,
     "metadata": {},
     "output_type": "execute_result"
    }
   ],
   "source": [
    "'spam'* 3"
   ]
  },
  {
   "cell_type": "code",
   "execution_count": null,
   "id": "3d18ac54-f7f8-4d1f-9f61-abd5b457f1ab",
   "metadata": {},
   "outputs": [],
   "source": [
    "Ans: The value of the following two terms be spamspamspam."
   ]
  },
  {
   "cell_type": "code",
   "execution_count": null,
   "id": "746e4334-7094-4169-8aae-7eaa27ba4761",
   "metadata": {},
   "outputs": [],
   "source": [
    "8. Why is eggs a valid variable name while 100 is invalid ?"
   ]
  },
  {
   "cell_type": "code",
   "execution_count": null,
   "id": "0b8c40c5-7de2-460e-ac5e-4fc6a921f7e3",
   "metadata": {},
   "outputs": [],
   "source": [
    "Ans: Eggs is a valid variable name because it does not violate the rule of not starting letters with a digit or a number.\n",
    "In comparision to eggs, 100 is invalid because it is a number that starts with a digit that is it violates the rule."
   ]
  },
  {
   "cell_type": "code",
   "execution_count": null,
   "id": "c62d2d5f-44a8-4977-bd60-a4bd31dadeca",
   "metadata": {},
   "outputs": [],
   "source": [
    "9. What three functions can be used to get the integer, floating-point number, or string version of a value ?"
   ]
  },
  {
   "cell_type": "code",
   "execution_count": null,
   "id": "99f58f23-98fe-435e-87f5-7ead60ed2141",
   "metadata": {},
   "outputs": [],
   "source": [
    "Ans: The int(), float() and str() functions can be used to get the integer, floating-point number, or string version of a value."
   ]
  },
  {
   "cell_type": "code",
   "execution_count": null,
   "id": "a584bcf6-be27-43e7-8cbd-d8cdd6dd437c",
   "metadata": {},
   "outputs": [],
   "source": [
    "10. Why does this expression cause an error? How can you fix it?\n",
    "'I have eaten' + 99 + 'burritos.'"
   ]
  },
  {
   "cell_type": "code",
   "execution_count": 29,
   "id": "a737693c-3ecd-43a3-aadf-9d88976665f3",
   "metadata": {},
   "outputs": [
    {
     "ename": "TypeError",
     "evalue": "can only concatenate str (not \"int\") to str",
     "output_type": "error",
     "traceback": [
      "\u001b[1;31m---------------------------------------------------------------------------\u001b[0m",
      "\u001b[1;31mTypeError\u001b[0m                                 Traceback (most recent call last)",
      "Cell \u001b[1;32mIn[29], line 1\u001b[0m\n\u001b[1;32m----> 1\u001b[0m \u001b[38;5;124m'\u001b[39m\u001b[38;5;124mI have eaten\u001b[39m\u001b[38;5;124m'\u001b[39m \u001b[38;5;241m+\u001b[39m  \u001b[38;5;241m99\u001b[39m  \u001b[38;5;241m+\u001b[39m\u001b[38;5;124m'\u001b[39m\u001b[38;5;124mburritos.\u001b[39m\u001b[38;5;124m'\u001b[39m\n",
      "\u001b[1;31mTypeError\u001b[0m: can only concatenate str (not \"int\") to str"
     ]
    }
   ],
   "source": [
    "'I have eaten' +  99  +'burritos.'"
   ]
  },
  {
   "cell_type": "code",
   "execution_count": null,
   "id": "61ca5d2d-69ef-4681-97a3-dc4b538a8d78",
   "metadata": {},
   "outputs": [],
   "source": [
    "Ans: The expression 'I have eaten' + 99 + 'burritos' can concatenate only string values not int values. To fix\n",
    "this error. We can put 99 into string and then:"
   ]
  },
  {
   "cell_type": "code",
   "execution_count": 31,
   "id": "72407423-ab9d-454b-b9bf-9bb39cffced3",
   "metadata": {},
   "outputs": [
    {
     "data": {
      "text/plain": [
       "'I have eaten 99 burritos.'"
      ]
     },
     "execution_count": 31,
     "metadata": {},
     "output_type": "execute_result"
    }
   ],
   "source": [
    "'I have eaten' + ' 99 ' +'burritos.'"
   ]
  },
  {
   "cell_type": "code",
   "execution_count": null,
   "id": "36ad1b07-9610-42e7-ad42-0da3a554b3ed",
   "metadata": {},
   "outputs": [],
   "source": []
  }
 ],
 "metadata": {
  "kernelspec": {
   "display_name": "Python 3 (ipykernel)",
   "language": "python",
   "name": "python3"
  },
  "language_info": {
   "codemirror_mode": {
    "name": "ipython",
    "version": 3
   },
   "file_extension": ".py",
   "mimetype": "text/x-python",
   "name": "python",
   "nbconvert_exporter": "python",
   "pygments_lexer": "ipython3",
   "version": "3.12.4"
  }
 },
 "nbformat": 4,
 "nbformat_minor": 5
}

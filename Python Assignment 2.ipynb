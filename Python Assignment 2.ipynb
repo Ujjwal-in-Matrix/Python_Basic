{
 "cells": [
  {
   "cell_type": "code",
   "execution_count": null,
   "id": "27a5ea4c-dcca-4278-8b58-330722a8a59a",
   "metadata": {},
   "outputs": [],
   "source": [
    "Q1. What are the two values of the Boolean data type? How do you write them?"
   ]
  },
  {
   "cell_type": "code",
   "execution_count": null,
   "id": "b4bcea36-1fd1-495b-b967-1885df9dabf7",
   "metadata": {},
   "outputs": [],
   "source": [
    "Ans: It has two possible values: True and False , which are special versions of 1 and 0 respectively and behave as such in arithmetic contexts."
   ]
  },
  {
   "cell_type": "code",
   "execution_count": null,
   "id": "42475e39-3e28-4907-9d6a-bdd1aca1670e",
   "metadata": {},
   "outputs": [],
   "source": [
    "Q2. What are the three different types of Boolean operators?"
   ]
  },
  {
   "cell_type": "code",
   "execution_count": null,
   "id": "4b17cac1-5f67-459a-8bf4-fed916c4a9d7",
   "metadata": {},
   "outputs": [],
   "source": [
    "Ans: The three different types of boolean operators are 'AND', 'OR' and 'NOT'."
   ]
  },
  {
   "cell_type": "code",
   "execution_count": null,
   "id": "bc231e8f-6aef-4ef5-b2e8-0d3de3991594",
   "metadata": {},
   "outputs": [],
   "source": [
    "Q3. Make a list of each Boolean operator's truth tables(i.e. every possible combination of Boolean values for the operator and what it evaluate )."
   ]
  },
  {
   "cell_type": "code",
   "execution_count": null,
   "id": "13dc70be-565a-4272-a615-b4e5661de961",
   "metadata": {},
   "outputs": [],
   "source": [
    "Ans: Here are the truth tables for the main Boolean operators: AND, OR, and NOT.\n",
    "\n",
    "1. AND Operator (&& or AND)\n",
    "The AND operator returns `true` only if both operands are `true`.\n",
    "\n",
    "| A     | B     | A AND B |\n",
    "|-------|-------|---------|\n",
    "| true  | true  | true    |\n",
    "| true  | false | false   |\n",
    "| false | true  | false   |\n",
    "| false | false | false   |\n",
    "\n",
    "2. OR Operator (`||` or `OR`)\n",
    "The OR operator returns `true` if at least one of the operands is `true`.\n",
    "\n",
    "| A     | B     | A OR B  |\n",
    "|-------|-------|---------|\n",
    "| true  | true  | true    |\n",
    "| true  | false | true    |\n",
    "| false | true  | true    |\n",
    "| false | false | false   |\n",
    "\n",
    "3. NOT Operator (`!` or `NOT`)\n",
    "The NOT operator returns the opposite of the operand.\n",
    "\n",
    "| A     | NOT A |\n",
    "|-------|-------|\n",
    "| true  | false |\n",
    "| false | true  |\n",
    "\n",
    "These tables show all possible combinations of Boolean values for each operator and their results."
   ]
  },
  {
   "cell_type": "code",
   "execution_count": null,
   "id": "7234a99e-c07e-41fc-adba-7607f5fa89dd",
   "metadata": {},
   "outputs": [],
   "source": [
    "Q4. What are the values of the following expressions?\n",
    "\n",
    "(i) (5 > 4) and (3 == 5)\n",
    "(ii) not (5 > 4)\n",
    "(iii) (5 > 4) or (3 == 5)\n",
    "(iv) not ((5 > 4) or (3 == 5))\n",
    "(v) (True and True) and (True == False)\n",
    "(vi) (not False) or (not True)"
   ]
  },
  {
   "cell_type": "code",
   "execution_count": null,
   "id": "3ce1e91b-88b8-4ac3-a033-6b5457511a0c",
   "metadata": {},
   "outputs": [],
   "source": [
    "Ans: (i) (5 > 4) and (3 == 5)   ----->  False\n",
    "(ii) not (5 > 4) ------> False\n",
    "(iii) (5 > 4) or (3 == 5) -----> True\n",
    "(iv) not ((5 > 4) or (3 == 5)) ------> False\n",
    "(v) (True and True) and (True == False) -------> False\n",
    "(vi) (not False) or (not True) -------> True"
   ]
  },
  {
   "cell_type": "code",
   "execution_count": null,
   "id": "8fcd1e18-3c03-4f9e-8bfd-2623dac16e93",
   "metadata": {},
   "outputs": [],
   "source": [
    "Q5. What are the six comparison operators ?"
   ]
  },
  {
   "cell_type": "code",
   "execution_count": null,
   "id": "26a8c74e-8f20-4e11-9618-cc1f48dc529c",
   "metadata": {},
   "outputs": [],
   "source": [
    "Ans: Six Comparison Operators are :\n",
    "\n",
    "(i)  == - Equal To                   Example: a == 6\n",
    "(ii) != - Not Equal To               Example: a!=6\n",
    "(iii) > - Greater than               Example: 7 > 5\n",
    "(iv) < - Less Than                   Example: 3 < 4\n",
    "(v) >= Greater than or Equal to      Example : a >= 6\n",
    "(vi) <= Less than or Equal to        Example : a <= 6"
   ]
  },
  {
   "cell_type": "code",
   "execution_count": null,
   "id": "23a7eea2-aae6-4610-9a57-f270cc263896",
   "metadata": {},
   "outputs": [],
   "source": [
    "Q6. How do you tell the difference between the equal to and assignment operators? Describe a\n",
    "condition and when you would use one."
   ]
  },
  {
   "cell_type": "code",
   "execution_count": 25,
   "id": "6a40a7f3-a8fd-4599-9346-33bc6416c8f1",
   "metadata": {},
   "outputs": [
    {
     "name": "stdout",
     "output_type": "stream",
     "text": [
      "False\n",
      "c = 1\n"
     ]
    }
   ],
   "source": [
    "# Equal To Operator\n",
    "if(2==3):\n",
    "    print(\"True\")\n",
    "else:\n",
    "    print(\"False\")\n",
    "#Assignment operator\n",
    "c=1 #here we have used assignment operator(=) to assign value of c which is 1\n",
    "print(\"c =\",c)"
   ]
  },
  {
   "cell_type": "code",
   "execution_count": null,
   "id": "164a6ec9-61d8-499b-8722-ea3ed4c8eb29",
   "metadata": {},
   "outputs": [],
   "source": [
    "Q7. Identify the three blocks in this code:"
   ]
  },
  {
   "cell_type": "code",
   "execution_count": 5,
   "id": "97c11fc3-c457-4d94-9913-69064a06d413",
   "metadata": {},
   "outputs": [
    {
     "name": "stdout",
     "output_type": "stream",
     "text": [
      "ham\n",
      "spam\n",
      "spam\n"
     ]
    }
   ],
   "source": [
    "spam = 0\n",
    "\n",
    "if spam == 10:\n",
    "    print('eggs')\n",
    "if spam > 5:\n",
    "    print('bacon')\n",
    "else:\n",
    "    print('ham')\n",
    "    print('spam')\n",
    "    print('spam')"
   ]
  },
  {
   "cell_type": "code",
   "execution_count": null,
   "id": "9d05b3e6-0ab6-4153-80f4-37fe8c860253",
   "metadata": {},
   "outputs": [],
   "source": [
    "Three blocks in this code are ham, spam, spam."
   ]
  },
  {
   "cell_type": "code",
   "execution_count": null,
   "id": "240e63f8-e1ed-4989-b298-bd3008561cca",
   "metadata": {},
   "outputs": [],
   "source": [
    "Q8. Write code that prints Hello if 1 is stored in spam, prints Howdy if 2 is stored in spam, and prints Greetings! if anything else is stored in spam."
   ]
  },
  {
   "cell_type": "code",
   "execution_count": 13,
   "id": "652ba1d5-2cbd-480c-80e6-dd236b9da8ea",
   "metadata": {},
   "outputs": [
    {
     "name": "stdin",
     "output_type": "stream",
     "text": [
      "Input a no. 2\n"
     ]
    },
    {
     "name": "stdout",
     "output_type": "stream",
     "text": [
      "Howdy\n"
     ]
    }
   ],
   "source": [
    "spam = int(input(\"Input a no.\"))\n",
    "\n",
    "if spam == 1:\n",
    "    print('Hello')\n",
    "if spam == 2:\n",
    "    print('Howdy')\n",
    "else:\n",
    "    print('Greetings!')"
   ]
  },
  {
   "cell_type": "code",
   "execution_count": null,
   "id": "6c4729d6-98ef-40d6-84da-645f7aa0d960",
   "metadata": {},
   "outputs": [],
   "source": [
    "Q9.If your programme is stuck in an endless loop, what keys you’ll press?"
   ]
  },
  {
   "cell_type": "code",
   "execution_count": null,
   "id": "3f781ee9-344b-453a-a5e0-71804897770a",
   "metadata": {},
   "outputs": [],
   "source": [
    "Ans: If the programme is stuck in an endless loop, we will press ctrl+c."
   ]
  },
  {
   "cell_type": "code",
   "execution_count": null,
   "id": "8ac4627a-5688-440b-8aea-6110d566977c",
   "metadata": {},
   "outputs": [],
   "source": [
    "Q10. How can you tell the difference between break and continue?"
   ]
  },
  {
   "cell_type": "code",
   "execution_count": 15,
   "id": "3e7f7d93-173c-4be6-ae7e-5f780b751e70",
   "metadata": {},
   "outputs": [
    {
     "name": "stdout",
     "output_type": "stream",
     "text": [
      "0\n",
      "1\n",
      "2\n",
      "3\n",
      "4\n",
      "5\n",
      "6\n",
      "Breaked\n",
      "0\n",
      "1\n",
      "2\n",
      "3\n",
      "4\n",
      "5\n",
      "6\n",
      "8\n",
      "9\n"
     ]
    }
   ],
   "source": [
    "# use of break\n",
    "for i in range(10):\n",
    "    if(i==7):\n",
    "        break\n",
    "    print(i)\n",
    "    \n",
    "print('Breaked')\n",
    "#use of  continue\n",
    "for i in range(10):\n",
    "    if(i==7):\n",
    "        continue\n",
    "    print(i)"
   ]
  },
  {
   "cell_type": "code",
   "execution_count": null,
   "id": "20404685-045f-492d-92cd-def6d5df748b",
   "metadata": {},
   "outputs": [],
   "source": [
    "Q11. In a for loop, what is the difference between range(10), range(0, 10), and range(0, 10, 1) ?"
   ]
  },
  {
   "cell_type": "code",
   "execution_count": 17,
   "id": "b49ac88e-1958-4e97-ba5d-a1e27824da86",
   "metadata": {},
   "outputs": [
    {
     "name": "stdout",
     "output_type": "stream",
     "text": [
      "0\n",
      "1\n",
      "2\n",
      "3\n",
      "4\n",
      "5\n",
      "6\n",
      "7\n",
      "8\n",
      "9\n",
      "xxxxxxxxxxxxxxxxxxxxxxxxxxxxxxxxxxxxxxxxxxxxxxxxxxxxxxxxxxxxxxxxxxxxxxxxxxxxxxxxxxxxxx\n",
      "0\n",
      "1\n",
      "2\n",
      "3\n",
      "4\n",
      "5\n",
      "6\n",
      "7\n",
      "8\n",
      "9\n",
      "xxxxxxxxxxxxxxxxxxxxxxxxxxxxxxxxxxxxxxxxxxxxxxxxxxxxxxxxxxxxxxxxxxxxxxxxxxxxxxxxxxxxxx\n",
      "0\n",
      "1\n",
      "2\n",
      "3\n",
      "4\n",
      "5\n",
      "6\n",
      "7\n",
      "8\n",
      "9\n"
     ]
    }
   ],
   "source": [
    "for i in range(10):\n",
    "    print(i)\n",
    "print(\"xxxxxxxxxxxxxxxxxxxxxxxxxxxxxxxxxxxxxxxxxxxxxxxxxxxxxxxxxxxxxxxxxxxxxxxxxxxxxxxxxxxxxx\") \n",
    "for i in range(0,10):\n",
    "    print(i)\n",
    "print(\"xxxxxxxxxxxxxxxxxxxxxxxxxxxxxxxxxxxxxxxxxxxxxxxxxxxxxxxxxxxxxxxxxxxxxxxxxxxxxxxxxxxxxx\")\n",
    "for i in range(0,10,1):\n",
    "    print(i)"
   ]
  },
  {
   "cell_type": "code",
   "execution_count": null,
   "id": "d1e9b08e-b902-43f6-a229-68f8ed8ee7eb",
   "metadata": {},
   "outputs": [],
   "source": [
    "From the above output we can conclude that they all do the same thing. The range(10) call ranges from 0 up to (but not including) 10, \n",
    "range(0, 10) tells the loop to start at 0, and range(0, 10, 1) tells the loop to increase the variable by 1 on each iteration."
   ]
  },
  {
   "cell_type": "code",
   "execution_count": null,
   "id": "130db3b8-4613-4f5b-9995-bfeb06b6d946",
   "metadata": {},
   "outputs": [],
   "source": [
    "Q12. Write a short program that prints the numbers 1 to 10 using a for loop. Then write an equivalent\n",
    "program that prints the numbers 1 to 10 using a while loop."
   ]
  },
  {
   "cell_type": "code",
   "execution_count": 19,
   "id": "209ff9f9-fa48-42c5-a3ea-31ed30cf607c",
   "metadata": {},
   "outputs": [
    {
     "name": "stdout",
     "output_type": "stream",
     "text": [
      "For Loop\n",
      "1\n",
      "2\n",
      "3\n",
      "4\n",
      "5\n",
      "6\n",
      "7\n",
      "8\n",
      "9\n",
      "10\n",
      "While Loop\n",
      "1\n",
      "2\n",
      "3\n",
      "4\n",
      "5\n",
      "6\n",
      "7\n",
      "8\n",
      "9\n",
      "10\n"
     ]
    }
   ],
   "source": [
    "#Use of For Loop\n",
    "print(\"For Loop\")\n",
    "for i in range(1,11):\n",
    "    print(i)\n",
    "#Use of While Loop\n",
    "print(\"While Loop\")\n",
    "a =1\n",
    "while a <= 10:\n",
    "    print(a)\n",
    "    a+=1"
   ]
  },
  {
   "cell_type": "code",
   "execution_count": null,
   "id": "29e48ca5-4156-4e1e-86ee-14245cf778ef",
   "metadata": {},
   "outputs": [],
   "source": [
    "Q13. If you had a function named bacon() inside a module named spam, how would you call it after\n",
    "importing spam?"
   ]
  },
  {
   "cell_type": "code",
   "execution_count": null,
   "id": "d23c9c72-9990-461b-bb25-074d24a2ce47",
   "metadata": {},
   "outputs": [],
   "source": [
    "We would call the function bacon() from the module spam using the following syntax:"
   ]
  },
  {
   "cell_type": "code",
   "execution_count": null,
   "id": "674db6b1-4555-4094-8288-8c6acd3eb588",
   "metadata": {},
   "outputs": [],
   "source": [
    "spam.bacon()"
   ]
  },
  {
   "cell_type": "code",
   "execution_count": null,
   "id": "20912430-8bd9-434b-8a63-69194953378d",
   "metadata": {},
   "outputs": [],
   "source": [
    "Here's a breakdown:"
   ]
  },
  {
   "cell_type": "code",
   "execution_count": null,
   "id": "7889cf99-df69-4252-be35-ec3acdb04605",
   "metadata": {},
   "outputs": [],
   "source": [
    "1. Import the module spam:"
   ]
  },
  {
   "cell_type": "code",
   "execution_count": null,
   "id": "eaf9b5a5-a42e-489c-ac0f-c5b5bde0aaab",
   "metadata": {},
   "outputs": [],
   "source": [
    "import spam"
   ]
  },
  {
   "cell_type": "code",
   "execution_count": null,
   "id": "1f04b519-db2a-4318-8a9b-a058c6185df2",
   "metadata": {},
   "outputs": [],
   "source": [
    "2. Call the function bacon() from the module using the dot notation:"
   ]
  },
  {
   "cell_type": "code",
   "execution_count": null,
   "id": "12412709-3d45-4f59-9b1f-162f154bd8c4",
   "metadata": {},
   "outputs": [],
   "source": [
    "spam.bacon()"
   ]
  }
 ],
 "metadata": {
  "kernelspec": {
   "display_name": "Python 3 (ipykernel)",
   "language": "python",
   "name": "python3"
  },
  "language_info": {
   "codemirror_mode": {
    "name": "ipython",
    "version": 3
   },
   "file_extension": ".py",
   "mimetype": "text/x-python",
   "name": "python",
   "nbconvert_exporter": "python",
   "pygments_lexer": "ipython3",
   "version": "3.12.4"
  }
 },
 "nbformat": 4,
 "nbformat_minor": 5
}

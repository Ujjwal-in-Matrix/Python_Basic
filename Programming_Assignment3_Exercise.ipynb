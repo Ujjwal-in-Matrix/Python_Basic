{
 "cells": [
  {
   "cell_type": "code",
   "execution_count": null,
   "id": "fa2ae634-016a-47a5-9d42-1eee1977ba73",
   "metadata": {},
   "outputs": [],
   "source": [
    "1. Write a Python Program to Check if a Number is Positive, Negative or Zero."
   ]
  },
  {
   "cell_type": "code",
   "execution_count": 2,
   "id": "574e77a0-0da6-4180-828c-b1841fe557b0",
   "metadata": {},
   "outputs": [
    {
     "name": "stdin",
     "output_type": "stream",
     "text": [
      "Enter a number:  7000\n"
     ]
    },
    {
     "name": "stdout",
     "output_type": "stream",
     "text": [
      "Positive\n"
     ]
    }
   ],
   "source": [
    "# Assume the number to be num\n",
    "\n",
    "num = float(input(\"Enter a number: \"))\n",
    "if num > 0:\n",
    "    print(\"Positive\")\n",
    "elif num == 0:\n",
    "    print(\"Zero\")\n",
    "else:\n",
    "    print(\"Negative\")                                                                           # Source: Programmiz"
   ]
  },
  {
   "cell_type": "code",
   "execution_count": null,
   "id": "2b345c31-e982-4f67-9775-7b9933a73e8a",
   "metadata": {},
   "outputs": [],
   "source": [
    "2. Write a Python Program to Check if a Number is Odd or Even."
   ]
  },
  {
   "cell_type": "code",
   "execution_count": 20,
   "id": "5114816b-b5e7-499c-9688-60fb42ff7cd3",
   "metadata": {},
   "outputs": [
    {
     "name": "stdin",
     "output_type": "stream",
     "text": [
      "Enter a number:  246\n"
     ]
    },
    {
     "name": "stdout",
     "output_type": "stream",
     "text": [
      "Even\n"
     ]
    }
   ],
   "source": [
    "# Let us assume the number x\n",
    "\n",
    "x = int(input(\"Enter a number: \"))\n",
    "if (x % 2 == 0) or (x % 4 == 0):\n",
    "    print(\"Even\")\n",
    "else:\n",
    "    print(\"Odd\")"
   ]
  },
  {
   "cell_type": "code",
   "execution_count": null,
   "id": "1bb5cef0-4833-4c34-a511-588ec044af18",
   "metadata": {},
   "outputs": [],
   "source": [
    "3. Write a Python Program to Check Leap Year."
   ]
  },
  {
   "cell_type": "code",
   "execution_count": 25,
   "id": "c3fcb787-2189-4dfd-97ae-d7d72b221b15",
   "metadata": {},
   "outputs": [
    {
     "name": "stdin",
     "output_type": "stream",
     "text": [
      "Enter the year:  1904\n"
     ]
    },
    {
     "name": "stdout",
     "output_type": "stream",
     "text": [
      "The given year is a leap year.\n"
     ]
    }
   ],
   "source": [
    "# Python program to check whether given year is the leap year or not\n",
    "\n",
    "# The condition is if the year ending with 00 that is century year is divisible by 100 but it should also divisible by 400.\n",
    "\n",
    "year = int(input(\"Enter the year: \"))\n",
    "if (year % 400 == 0) and (year % 100 == 0):\n",
    "    print(\"The given year is a leap year.\")\n",
    "elif (year % 4 == 0) and (year % 100 != 0):\n",
    "    print(\"The given year is a leap year.\")\n",
    "else:\n",
    "    print(\"The given year is not a leap year.\")"
   ]
  },
  {
   "cell_type": "code",
   "execution_count": null,
   "id": "d481bb3a-5b0d-4dfb-bfd3-ee5bdf0d9d36",
   "metadata": {},
   "outputs": [],
   "source": [
    "4. Write a Python Program to Check Prime Number."
   ]
  },
  {
   "cell_type": "code",
   "execution_count": 31,
   "id": "69144a61-2f53-4dab-a8b4-579020688c46",
   "metadata": {},
   "outputs": [
    {
     "name": "stdin",
     "output_type": "stream",
     "text": [
      "Enter a number:  23\n"
     ]
    },
    {
     "name": "stdout",
     "output_type": "stream",
     "text": [
      "23 is a prime number.\n"
     ]
    }
   ],
   "source": [
    "def is_prime(num):\n",
    "    if num <= 1:\n",
    "        return False\n",
    "    for i in range(2, int(num ** 0.5) + 1):\n",
    "        if num % i == 0:\n",
    "            return False\n",
    "    return True\n",
    "\n",
    "number = int(input(\"Enter a number: \"))\n",
    "\n",
    "if is_prime(number):\n",
    "    print(f\"{number} is a prime number.\")\n",
    "else:\n",
    "    print(f\"{number} is not a prime number.\")                                 # Source: ChatGPT"
   ]
  },
  {
   "cell_type": "code",
   "execution_count": null,
   "id": "20f3e688-087a-4f9d-9741-9d09e1e1ce39",
   "metadata": {},
   "outputs": [],
   "source": [
    "5. Write a Python Program to Print all Prime Numbers in an Interval of 1-10000."
   ]
  },
  {
   "cell_type": "code",
   "execution_count": null,
   "id": "2fb159e6-4b9a-44c6-b034-7054231356c0",
   "metadata": {},
   "outputs": [],
   "source": [
    "lower_value = int(input(\"Please, Enter the lowest range value:\"))\n",
    "upper_value = int(input(\"Please, Enter the upper range value:\"))\n",
    "\n",
    "print(\"The Prime numbers in the range are: \")\n",
    "for number in range (lower_value, upper_value + 1):\n",
    "    if number > 1:\n",
    "        for i in range(2, number):\n",
    "            if(number % i) == 0:\n",
    "                break\n",
    "            else:\n",
    "                print(number)"
   ]
  },
  {
   "cell_type": "code",
   "execution_count": null,
   "id": "bf173962-03df-451a-9d61-acf73e4ebe2a",
   "metadata": {},
   "outputs": [],
   "source": []
  }
 ],
 "metadata": {
  "kernelspec": {
   "display_name": "Python 3 (ipykernel)",
   "language": "python",
   "name": "python3"
  },
  "language_info": {
   "codemirror_mode": {
    "name": "ipython",
    "version": 3
   },
   "file_extension": ".py",
   "mimetype": "text/x-python",
   "name": "python",
   "nbconvert_exporter": "python",
   "pygments_lexer": "ipython3",
   "version": "3.12.4"
  }
 },
 "nbformat": 4,
 "nbformat_minor": 5
}

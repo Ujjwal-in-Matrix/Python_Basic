{
 "cells": [
  {
   "cell_type": "code",
   "execution_count": null,
   "id": "047a6d67-c8e1-4eec-963f-4de4042cf2f8",
   "metadata": {},
   "outputs": [],
   "source": [
    "Task 1\n",
    "\n",
    "Read the text file and capture the password from file.\n",
    "Ask user to input password.\n",
    "If password is correct than open google chrome for user to access internet.\n",
    "Else says permission denied."
   ]
  },
  {
   "cell_type": "code",
   "execution_count": 7,
   "id": "2a80c051-264d-43db-bacb-9c1332615593",
   "metadata": {},
   "outputs": [
    {
     "name": "stdin",
     "output_type": "stream",
     "text": [
      "Enter the password:  Ujjwal_Ducat\n"
     ]
    },
    {
     "name": "stdout",
     "output_type": "stream",
     "text": [
      "Access granted. Opening Google Chrome...\n"
     ]
    }
   ],
   "source": [
    "import webbrowser\n",
    "\n",
    "# Step 1: Read the password from a text file\n",
    "def read_password_from_file(file_path):\n",
    "    try:\n",
    "        with open(file_path, 'r') as file:\n",
    "            password = file.read().strip()\n",
    "        return password\n",
    "    except FileNotFoundError:\n",
    "        print(\"Password file not found!\")\n",
    "        return None\n",
    "\n",
    "# Step 2: Ask the user to input the password\n",
    "def ask_user_for_password():\n",
    "    return input(\"Enter the password: \")\n",
    "\n",
    "# Step 3: Check if password is correct and act accordingly\n",
    "def main():\n",
    "    password_file = 'password.txt'  # Your text file containing the password\n",
    "    saved_password = read_password_from_file(password_file)\n",
    "    \n",
    "    if saved_password:\n",
    "        user_input = ask_user_for_password()\n",
    "        \n",
    "        if user_input == saved_password:\n",
    "            print(\"Access granted. Opening Google Chrome...\")\n",
    "            # Option 1: Use default browser\n",
    "            webbrowser.open(\"http://www.google.com\")  # Opens in default browser\n",
    "            \n",
    "            # Option 2: Open Google Chrome directly (requires path to chrome.exe)\n",
    "            # chrome_path = \"C:/Program Files/Google/Chrome/Application/chrome.exe %s\"\n",
    "            # webbrowser.get(chrome_path).open(\"http://www.google.com\")\n",
    "            \n",
    "        else:\n",
    "            print(\"Permission denied. Incorrect password.\")\n",
    "    else:\n",
    "        print(\"Could not retrieve the password from file.\")\n",
    "\n",
    "# Ensure that this block runs the main function\n",
    "if __name__ == \"__main__\":\n",
    "    main()\n"
   ]
  },
  {
   "cell_type": "code",
   "execution_count": null,
   "id": "55a04cac-160a-46a7-a84c-770f28537736",
   "metadata": {},
   "outputs": [],
   "source": [
    "Task 2\n",
    "\n",
    "create 2 files:\n",
    "1.username_file.txt : where user will create his username_file.txt and write username in this file.\n",
    "2.userpassword_file.txt : Where user will create userpassword_file.txt and write his password in this file.\n",
    "\n",
    "now user will login through the username and password:\n",
    "you will read both files username_file.txt and userpassword_file.txt\n",
    "\n",
    "you will check both the input correct entered by the user.\n",
    "If both details are correct than you will open google.com for surfing\n",
    "else print message permission denied as username or password is incorrect."
   ]
  },
  {
   "cell_type": "code",
   "execution_count": 17,
   "id": "6b4afcad-f12c-4261-82ff-48cd223e390f",
   "metadata": {},
   "outputs": [
    {
     "name": "stdin",
     "output_type": "stream",
     "text": [
      "Enter your username:  user123\n",
      "Enter your password:  mypassword123\n"
     ]
    },
    {
     "name": "stdout",
     "output_type": "stream",
     "text": [
      "Access granted. Opening Google Chrome...\n"
     ]
    }
   ],
   "source": [
    "import webbrowser\n",
    "\n",
    "# Step 1: Read the username from a file\n",
    "def read_username_from_file(file_path):\n",
    "    try:\n",
    "        with open(file_path, 'r') as file:\n",
    "            username = file.read().strip()\n",
    "        return username\n",
    "    except FileNotFoundError:\n",
    "        print(\"Username file not found!\")\n",
    "        return None\n",
    "\n",
    "# Step 2: Read the password from a file\n",
    "def read_password_from_file(file_path):\n",
    "    try:\n",
    "        with open(file_path, 'r') as file:\n",
    "            password = file.read().strip()\n",
    "        return password\n",
    "    except FileNotFoundError:\n",
    "        print(\"Password file not found!\")\n",
    "        return None\n",
    "\n",
    "# Step 3: Ask the user to input their username and password\n",
    "def ask_user_for_login_details():\n",
    "    username_input = input(\"Enter your username: \")\n",
    "    password_input = input(\"Enter your password: \")\n",
    "    return username_input, password_input\n",
    "\n",
    "# Step 4: Check if both username and password are correct\n",
    "def main():\n",
    "    username_file = 'username_file.txt'  # Path to your username file\n",
    "    password_file = 'userpassword_file.txt'  # Path to your password file\n",
    "    \n",
    "    saved_username = read_username_from_file(username_file)\n",
    "    saved_password = read_password_from_file(password_file)\n",
    "    \n",
    "    if saved_username and saved_password:\n",
    "        user_username, user_password = ask_user_for_login_details()\n",
    "        \n",
    "        if user_username == saved_username and user_password == saved_password:\n",
    "            print(\"Access granted. Opening Google Chrome...\")\n",
    "            webbrowser.open(\"http://www.google.com\")  # Opens the default web browser\n",
    "        else:\n",
    "            print(\"Permission denied. Incorrect username or password.\")\n",
    "    else:\n",
    "        print(\"Could not retrieve the username or password from file.\")\n",
    "\n",
    "# Ensure that this block runs the main function\n",
    "if __name__ == \"__main__\":\n",
    "    main()\n"
   ]
  },
  {
   "cell_type": "code",
   "execution_count": null,
   "id": "44842e84-f7e8-411e-92fd-e38ee6f169b8",
   "metadata": {},
   "outputs": [],
   "source": []
  }
 ],
 "metadata": {
  "kernelspec": {
   "display_name": "Python 3 (ipykernel)",
   "language": "python",
   "name": "python3"
  },
  "language_info": {
   "codemirror_mode": {
    "name": "ipython",
    "version": 3
   },
   "file_extension": ".py",
   "mimetype": "text/x-python",
   "name": "python",
   "nbconvert_exporter": "python",
   "pygments_lexer": "ipython3",
   "version": "3.12.4"
  }
 },
 "nbformat": 4,
 "nbformat_minor": 5
}

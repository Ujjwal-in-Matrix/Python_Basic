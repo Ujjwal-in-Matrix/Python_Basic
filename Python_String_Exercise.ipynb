{
 "cells": [
  {
   "cell_type": "code",
   "execution_count": null,
   "id": "a1a4003f-dd57-47cb-a87f-a6d2c6c9c46f",
   "metadata": {},
   "outputs": [],
   "source": [
    "Q1. How do you concatenate two strings in Python?"
   ]
  },
  {
   "cell_type": "code",
   "execution_count": null,
   "id": "4e01249e-368f-49af-9eb5-685645b22694",
   "metadata": {},
   "outputs": [],
   "source": [
    "Ans: To concatenate two strings in Python, we can use the '+' operator. Here's an example:"
   ]
  },
  {
   "cell_type": "code",
   "execution_count": 3,
   "id": "cda58a0a-0c02-474b-93dc-7a8dd2df862f",
   "metadata": {},
   "outputs": [
    {
     "name": "stdout",
     "output_type": "stream",
     "text": [
      "Hello World\n"
     ]
    }
   ],
   "source": [
    "string1 = \"Hello\"\n",
    "string2 = \"World\"\n",
    "result = string1 + \" \" + string2\n",
    "print(result)\n"
   ]
  },
  {
   "cell_type": "code",
   "execution_count": null,
   "id": "e6666767-2a12-43e9-bf5e-2a1a8ddbed8b",
   "metadata": {},
   "outputs": [],
   "source": [
    "Q2. What is the difference between the + operator and the join() method for concatenating strings?"
   ]
  },
  {
   "cell_type": "code",
   "execution_count": null,
   "id": "88c634be-1ed0-41de-a944-ee7b30d1054d",
   "metadata": {},
   "outputs": [],
   "source": [
    "The difference between the + operator and the join() method for concatenating strings is:\n",
    "\n",
    "Ans: (1) '+'operator: Concatenates strings by directly appending them together, like '\"hello\" + \"world\"' ---> '\"helloworld\"'.\n",
    "\n",
    "(2) 'join()' method: Joins a sequence of strings using a specified seperator, like '\" \".join([\"hello\", \"world\"])' ----> '\"hello world\"'."
   ]
  },
  {
   "cell_type": "code",
   "execution_count": 9,
   "id": "fbae57f2-6ce2-493e-b51c-72c86423c337",
   "metadata": {},
   "outputs": [
    {
     "name": "stdout",
     "output_type": "stream",
     "text": [
      "hello world\n"
     ]
    }
   ],
   "source": [
    "str1 = \"hello\"\n",
    "str2 = \"world\"\n",
    "result_plus = str1 + \" \" + str2\n",
    "print(result_plus)"
   ]
  },
  {
   "cell_type": "code",
   "execution_count": 11,
   "id": "93a31a45-5900-44e9-a898-5e56c482a2e8",
   "metadata": {},
   "outputs": [
    {
     "name": "stdout",
     "output_type": "stream",
     "text": [
      "hello world\n"
     ]
    }
   ],
   "source": [
    "words = [\"hello\", \"world\"]\n",
    "result_join = \" \".join(words)\n",
    "print(result_join)\n"
   ]
  },
  {
   "cell_type": "code",
   "execution_count": null,
   "id": "01f11c0d-36e4-429f-bcb8-416aa3473cd5",
   "metadata": {},
   "outputs": [],
   "source": [
    "Q3. How do you access individual characters in a string?"
   ]
  },
  {
   "cell_type": "code",
   "execution_count": null,
   "id": "a1d83420-84d2-4a24-b509-eebd8533854e",
   "metadata": {},
   "outputs": [],
   "source": [
    "Ans: In Python, we can access individual characters in a string by using indexing."
   ]
  },
  {
   "cell_type": "code",
   "execution_count": 17,
   "id": "c2c579c7-1276-45bc-93e2-5d634865d1a8",
   "metadata": {},
   "outputs": [
    {
     "name": "stdout",
     "output_type": "stream",
     "text": [
      "h\n"
     ]
    }
   ],
   "source": [
    "my_string = \"hello\"\n",
    "first_char = my_string[0]\n",
    "print (first_char)"
   ]
  },
  {
   "cell_type": "code",
   "execution_count": 19,
   "id": "2e40a882-cd10-4bc1-bef0-3edd41d4e295",
   "metadata": {},
   "outputs": [
    {
     "name": "stdout",
     "output_type": "stream",
     "text": [
      "e\n"
     ]
    }
   ],
   "source": [
    "second_char = my_string[1]\n",
    "print (second_char)"
   ]
  },
  {
   "cell_type": "code",
   "execution_count": 21,
   "id": "faa4ab3c-bdb7-44ae-a4e7-4ae21ee32f4d",
   "metadata": {},
   "outputs": [
    {
     "name": "stdout",
     "output_type": "stream",
     "text": [
      "l\n"
     ]
    }
   ],
   "source": [
    "third_char = my_string[2]\n",
    "print (third_char)"
   ]
  },
  {
   "cell_type": "code",
   "execution_count": 23,
   "id": "a44e83a7-07b3-473e-93a8-a9188fff9bfe",
   "metadata": {},
   "outputs": [
    {
     "name": "stdout",
     "output_type": "stream",
     "text": [
      "l\n"
     ]
    }
   ],
   "source": [
    "fourth_char = my_string[3]\n",
    "print (fourth_char)"
   ]
  },
  {
   "cell_type": "code",
   "execution_count": 25,
   "id": "42f8cd60-4cf3-4642-8db5-3b93cf3d43f3",
   "metadata": {},
   "outputs": [
    {
     "name": "stdout",
     "output_type": "stream",
     "text": [
      "o\n"
     ]
    }
   ],
   "source": [
    "fifth_char = my_string[4]\n",
    "print (fifth_char)"
   ]
  },
  {
   "cell_type": "code",
   "execution_count": null,
   "id": "01d575ff-f015-4b04-ab58-4e70634cc3a1",
   "metadata": {},
   "outputs": [],
   "source": [
    "Q4. What method is used to find the length of a string in Python?"
   ]
  },
  {
   "cell_type": "code",
   "execution_count": null,
   "id": "4cc3f6f5-e216-48b2-afee-4f2e71b7658b",
   "metadata": {},
   "outputs": [],
   "source": [
    "Ans: In Python, the 'len()' function is used to find the length of a string."
   ]
  },
  {
   "cell_type": "code",
   "execution_count": 27,
   "id": "9df1b5d8-f9d7-4383-a739-90c2b1380a38",
   "metadata": {},
   "outputs": [
    {
     "name": "stdout",
     "output_type": "stream",
     "text": [
      "Length of the string: 5\n"
     ]
    }
   ],
   "source": [
    "my_string = \"hello\"\n",
    "length = len(my_string)\n",
    "print(\"Length of the string:\", length)"
   ]
  },
  {
   "cell_type": "code",
   "execution_count": null,
   "id": "b17f4347-ae25-43be-a82d-5a8a779da76b",
   "metadata": {},
   "outputs": [],
   "source": [
    "Q5. How can you convert a string to uppercase in Python?"
   ]
  },
  {
   "cell_type": "code",
   "execution_count": null,
   "id": "27156196-cdcd-416a-ad6f-f2fa1b879f6a",
   "metadata": {},
   "outputs": [],
   "source": [
    "Ans: We can convert a string to uppercase in Python. This can be illustrated by the following example:"
   ]
  },
  {
   "cell_type": "code",
   "execution_count": 29,
   "id": "3b7f5bb2-a232-41db-9ea8-e47a73ad18fb",
   "metadata": {},
   "outputs": [
    {
     "name": "stdout",
     "output_type": "stream",
     "text": [
      "PYTHON\n"
     ]
    }
   ],
   "source": [
    "my_string = \"python\"\n",
    "my_string = my_string.upper()\n",
    "print(my_string)"
   ]
  },
  {
   "cell_type": "code",
   "execution_count": null,
   "id": "7cc41172-e298-418c-a124-3f9854c0e62f",
   "metadata": {},
   "outputs": [],
   "source": [
    "Q6. How can you convert a string to lowercase in Python?"
   ]
  },
  {
   "cell_type": "code",
   "execution_count": null,
   "id": "e56ea8c1-270a-4fec-87a6-1ea5fd6b4ebe",
   "metadata": {},
   "outputs": [],
   "source": [
    "Ans: We can convert a string to lowercase in Python. This can be illustrated by the following example:"
   ]
  },
  {
   "cell_type": "code",
   "execution_count": 31,
   "id": "ede7e5c2-96bc-4084-9481-b872b0b18081",
   "metadata": {},
   "outputs": [
    {
     "name": "stdout",
     "output_type": "stream",
     "text": [
      "python\n"
     ]
    }
   ],
   "source": [
    "my_string = my_string.lower()\n",
    "print(my_string)"
   ]
  },
  {
   "cell_type": "code",
   "execution_count": null,
   "id": "30a5538d-15ca-44b4-b46b-fafe9f4e7ac3",
   "metadata": {},
   "outputs": [],
   "source": [
    "Q7. What method is used to replace substrings within a string?"
   ]
  },
  {
   "cell_type": "code",
   "execution_count": null,
   "id": "2f5b8ee9-2aa8-4754-913a-b733c07ceb25",
   "metadata": {},
   "outputs": [],
   "source": [
    "Ans: The 'replace()' method is used to replace substrings within a string in Python. Here's an example:"
   ]
  },
  {
   "cell_type": "code",
   "execution_count": 33,
   "id": "34f78857-5ea0-474e-ae5e-4780a729a2b6",
   "metadata": {},
   "outputs": [
    {
     "name": "stdout",
     "output_type": "stream",
     "text": [
      "hello Python\n"
     ]
    }
   ],
   "source": [
    "my_string = \"hello world\"\n",
    "new_string = my_string.replace(\"world\", \"Python\")\n",
    "print(new_string)"
   ]
  },
  {
   "cell_type": "code",
   "execution_count": null,
   "id": "6d4b21a6-5bb5-4462-ad71-58dfc97ea511",
   "metadata": {},
   "outputs": [],
   "source": [
    "Q8. How can you split a string into a list of substrings based on a delimiter?"
   ]
  },
  {
   "cell_type": "code",
   "execution_count": null,
   "id": "f98219e0-77e9-4968-960b-ffe31b345dc3",
   "metadata": {},
   "outputs": [],
   "source": [
    "We can use the split() method to split a string into a list of substrings based on a specified delimiter. Here's an example:"
   ]
  },
  {
   "cell_type": "code",
   "execution_count": 35,
   "id": "8f16550c-b7ce-4f90-843b-98d0b5630e28",
   "metadata": {},
   "outputs": [
    {
     "name": "stdout",
     "output_type": "stream",
     "text": [
      "['apple', 'banana', 'cherry']\n"
     ]
    }
   ],
   "source": [
    "my_string = \"apple,banana,cherry\"\n",
    "fruits = my_string.split(\",\")\n",
    "print(fruits)"
   ]
  },
  {
   "cell_type": "code",
   "execution_count": null,
   "id": "e2341b81-edc1-4b30-9ffa-9fae5d8a02d0",
   "metadata": {},
   "outputs": [],
   "source": [
    "Q9. How do you check if a string starts with a particular substring?"
   ]
  },
  {
   "cell_type": "code",
   "execution_count": null,
   "id": "9d1302fd-9380-4457-905f-f01a90caceda",
   "metadata": {},
   "outputs": [],
   "source": [
    "Ans: If the string starts with the specified prefix, it will return True otherwise returns False."
   ]
  },
  {
   "cell_type": "code",
   "execution_count": 37,
   "id": "7b90d29e-0b32-40bc-8f9a-b102f549b6d7",
   "metadata": {},
   "outputs": [
    {
     "name": "stdout",
     "output_type": "stream",
     "text": [
      "True\n"
     ]
    }
   ],
   "source": [
    "my_string = \"python\"\n",
    "print(my_string.startswith(\"p\"))"
   ]
  },
  {
   "cell_type": "code",
   "execution_count": null,
   "id": "247f5f4b-893e-45ce-a25d-b03efaa3ba3a",
   "metadata": {},
   "outputs": [],
   "source": [
    "Q10. How do you check if a string ends with a particular substring?"
   ]
  },
  {
   "cell_type": "code",
   "execution_count": null,
   "id": "cbdd675f-822f-47fb-bc7b-e623a8a0dd24",
   "metadata": {},
   "outputs": [],
   "source": [
    "Ans:If the string ends with the specified prefix, it will return True otherwise returns False."
   ]
  },
  {
   "cell_type": "code",
   "execution_count": 41,
   "id": "0ff59ee6-798a-4f1b-844e-1fa39011b32e",
   "metadata": {},
   "outputs": [
    {
     "name": "stdout",
     "output_type": "stream",
     "text": [
      "True\n"
     ]
    }
   ],
   "source": [
    "my_string = \"python\"\n",
    "print(my_string.endswith(\"n\"))"
   ]
  },
  {
   "cell_type": "code",
   "execution_count": null,
   "id": "0a2b394a-fb31-427a-bfaa-f86c2e27c418",
   "metadata": {},
   "outputs": [],
   "source": [
    "Q11. How can you remove leading and trailing whitespace from a string?"
   ]
  },
  {
   "cell_type": "code",
   "execution_count": null,
   "id": "3d7a0897-64c0-4f57-a679-a3d634ad9212",
   "metadata": {},
   "outputs": [],
   "source": [
    "Ans: The strip() method in Python is used to remove leading and trailing whitespace characters(spaces,tabs,newlines)"
   ]
  },
  {
   "cell_type": "code",
   "execution_count": null,
   "id": "0afaae0b-55d8-433f-bea2-63c9f80e0934",
   "metadata": {},
   "outputs": [],
   "source": [
    "from a string. It returns a copy of the string with the leading and trailing whitespace removed."
   ]
  },
  {
   "cell_type": "code",
   "execution_count": 43,
   "id": "8190d262-d90e-452c-a524-9cf6ff0d479c",
   "metadata": {},
   "outputs": [
    {
     "name": "stdout",
     "output_type": "stream",
     "text": [
      "Hello, World!\n"
     ]
    }
   ],
   "source": [
    "my_string = \"   Hello, World!  \"\n",
    "stripped_string = my_string.strip()\n",
    "print(stripped_string)  "
   ]
  },
  {
   "cell_type": "code",
   "execution_count": null,
   "id": "40b98fca-dbd0-42bd-ad65-b03529a4af60",
   "metadata": {},
   "outputs": [],
   "source": [
    "Q12. What method is used to find the index of the first occurrence of a substring within a string?"
   ]
  },
  {
   "cell_type": "code",
   "execution_count": null,
   "id": "9ba90254-fa93-4d06-a205-37dab2bc04f9",
   "metadata": {},
   "outputs": [],
   "source": [
    "Ans: The index() method in Python is used to find the index of the first occurence of a specified substring within the string."
   ]
  },
  {
   "cell_type": "code",
   "execution_count": null,
   "id": "89026cbc-5053-44ad-b688-1f637acaa7bf",
   "metadata": {},
   "outputs": [],
   "source": [
    "If the substring is found, it returns the lowest index where the substring is found. If the substring is not found, it raises a ValueError."
   ]
  },
  {
   "cell_type": "code",
   "execution_count": 45,
   "id": "3b880885-2cf6-47a6-a557-33b05eb8ea36",
   "metadata": {},
   "outputs": [
    {
     "name": "stdout",
     "output_type": "stream",
     "text": [
      "6\n"
     ]
    }
   ],
   "source": [
    "my_string = \"hello world  world\"\n",
    "index = my_string.index('world') \n",
    "print(index) "
   ]
  },
  {
   "cell_type": "code",
   "execution_count": null,
   "id": "8ef639c8-e0cf-41ab-8d76-99c13e2feeab",
   "metadata": {},
   "outputs": [],
   "source": [
    "Q13. How can you count the number of occurrences of a substring within a string?"
   ]
  },
  {
   "cell_type": "code",
   "execution_count": null,
   "id": "82b80c9c-291b-4020-9194-d201a03de673",
   "metadata": {},
   "outputs": [],
   "source": [
    "Ans: The string.count(substring,start,end) can count the number of occurrences of a substring within a string."
   ]
  },
  {
   "cell_type": "code",
   "execution_count": 47,
   "id": "6d1cacb9-0fd2-456d-a638-eb14ef9925f7",
   "metadata": {},
   "outputs": [
    {
     "name": "stdout",
     "output_type": "stream",
     "text": [
      "2\n",
      "6\n"
     ]
    }
   ],
   "source": [
    "my_string = \"Hello Python PPPPPY\"\n",
    "print(my_string.count(\"l\"))\n",
    "print(my_string.count(\"P\",5,len(my_string)))"
   ]
  },
  {
   "cell_type": "code",
   "execution_count": null,
   "id": "9f939c6e-8203-478b-b610-7ef05ebb6f5e",
   "metadata": {},
   "outputs": [],
   "source": [
    "Q14. How do you check if a string contains only alphabetic characters ?"
   ]
  },
  {
   "cell_type": "code",
   "execution_count": null,
   "id": "af86c7ef-6768-4e54-bc91-659fefcd4888",
   "metadata": {},
   "outputs": [],
   "source": [
    "Ans: When all characters in the string are alphabetic (consist of only letters), and the string contains at least one character. It will return True."
   ]
  },
  {
   "cell_type": "code",
   "execution_count": null,
   "id": "135396ad-79a5-4b30-84d3-b52c63687fe5",
   "metadata": {},
   "outputs": [],
   "source": [
    "Otherwise, it will return False. "
   ]
  },
  {
   "cell_type": "code",
   "execution_count": 49,
   "id": "de409f2c-2629-4490-a4b5-b8ec01677983",
   "metadata": {},
   "outputs": [
    {
     "name": "stdout",
     "output_type": "stream",
     "text": [
      "True\n",
      "False\n",
      "False\n"
     ]
    }
   ],
   "source": [
    "my_string1 = \"hello\"\n",
    "my_string2 = \"hello123\"\n",
    "my_string3 = \"12345\"\n",
    "\n",
    "print(my_string1.isalpha())  \n",
    "print(my_string2.isalpha())  \n",
    "print(my_string3.isalpha())"
   ]
  },
  {
   "cell_type": "code",
   "execution_count": null,
   "id": "f9f68577-aa37-4b3f-86d0-50ede8a013b0",
   "metadata": {},
   "outputs": [],
   "source": [
    "Q15. How do you check if a string contains only numeric characters?"
   ]
  },
  {
   "cell_type": "code",
   "execution_count": null,
   "id": "9412c5b3-6f10-4935-8750-086b746ba9d5",
   "metadata": {},
   "outputs": [],
   "source": [
    "Ans: The string.isnumeric() method in Python is used to check whether all chracters in a string are numeric. It returns True if all characters in the "
   ]
  },
  {
   "cell_type": "code",
   "execution_count": null,
   "id": "eb9cd4d8-45f1-4928-9a78-0550b4b02890",
   "metadata": {},
   "outputs": [],
   "source": [
    "string are numeric, and the string contains at least one character. Otherwise, it returns False."
   ]
  },
  {
   "cell_type": "code",
   "execution_count": 51,
   "id": "93d8a3d6-9d76-495a-96da-1ecf83223cdf",
   "metadata": {},
   "outputs": [
    {
     "name": "stdout",
     "output_type": "stream",
     "text": [
      "True\n",
      "False\n",
      "True\n"
     ]
    }
   ],
   "source": [
    "my_string1 = \"12345\"\n",
    "my_string2 = \"12.345\"\n",
    "my_string3 = \"½\"\n",
    "  \n",
    "print(my_string1.isnumeric()) \n",
    "print(my_string2.isnumeric()) \n",
    "print(my_string3.isnumeric())  "
   ]
  },
  {
   "cell_type": "code",
   "execution_count": null,
   "id": "75ea635f-32e8-4ff7-844e-11dbad097b81",
   "metadata": {},
   "outputs": [],
   "source": [
    "Q16. How can you check if a string is a palindrome?"
   ]
  },
  {
   "cell_type": "code",
   "execution_count": null,
   "id": "d620ce73-cdd1-4c4b-9ac0-7b9a707d366e",
   "metadata": {},
   "outputs": [],
   "source": [
    "Ans:  To check if a string is a palindrome, we can follow these steps:\n",
    "\n",
    "(1) Remove Non-Alphanumeric Characters: Ignore spaces, punctuation, and special characters. We can use regular expressions or string methods to achieve\n",
    "this.\n",
    "\n",
    "(2) Convert to Lowercase: Convert the entire string to lowercase to ensure the comparison is case-insensitive.\n",
    "\n",
    "(3) Check for Palindrome: Compare the cleaned string with its reverse. If they are the same, the string is a palindrome."
   ]
  },
  {
   "cell_type": "code",
   "execution_count": 53,
   "id": "8a609697-d482-4b9a-aeb5-9c059e3fea0e",
   "metadata": {},
   "outputs": [
    {
     "name": "stdout",
     "output_type": "stream",
     "text": [
      "True\n",
      "False\n"
     ]
    }
   ],
   "source": [
    "import re\n",
    "\n",
    "def is_palindrome(s):\n",
    "    \n",
    "    cleaned_string = re.sub(r'[^a-zA-Z0-9]', '', s).lower()\n",
    "    \n",
    "    \n",
    "    return cleaned_string == cleaned_string[::-1]\n",
    "\n",
    "print(is_palindrome(\"A man, a plan, a canal: Panama\"))  \n",
    "print(is_palindrome(\"hello\"))  \n"
   ]
  },
  {
   "cell_type": "code",
   "execution_count": null,
   "id": "5ba3bc11-24ff-4cb7-aff9-d8461501faf4",
   "metadata": {},
   "outputs": [],
   "source": [
    "Q17. How can you reverse a string in Python?"
   ]
  },
  {
   "cell_type": "code",
   "execution_count": null,
   "id": "f684b445-089c-488e-9342-c79134650c55",
   "metadata": {},
   "outputs": [],
   "source": [
    "Ans: Reversing a string in Python is quite straightforward. We can use slicing to accomplish this. Here’s how:"
   ]
  },
  {
   "cell_type": "code",
   "execution_count": 55,
   "id": "0bdf6a48-450d-4d5d-ab83-070d62bf591b",
   "metadata": {},
   "outputs": [
    {
     "name": "stdout",
     "output_type": "stream",
     "text": [
      "!dlrow ,olleH\n"
     ]
    }
   ],
   "source": [
    "s = \"Hello, world!\"\n",
    "\n",
    "reversed_s = s[::-1]\n",
    "\n",
    "print(reversed_s) \n"
   ]
  },
  {
   "cell_type": "code",
   "execution_count": null,
   "id": "bc0189fc-c10e-4ee3-ab10-888f8097786b",
   "metadata": {},
   "outputs": [],
   "source": [
    "Q18. How do you format a string with placeholders for variable values?"
   ]
  },
  {
   "cell_type": "code",
   "execution_count": null,
   "id": "8399a4a7-e3b9-4c0c-8bbd-ed70a4f1dc3b",
   "metadata": {},
   "outputs": [],
   "source": [
    "Ans: In Python, We can format strings with placeholders for variable values using several methods. "
   ]
  },
  {
   "cell_type": "code",
   "execution_count": null,
   "id": "8ac5b9e6-4a7d-4779-98a5-8106647efadd",
   "metadata": {},
   "outputs": [],
   "source": [
    "Q19. How do you access a substring of a string using slicing?"
   ]
  },
  {
   "cell_type": "code",
   "execution_count": null,
   "id": "126fe601-0355-42c0-a9da-1d137f2332cd",
   "metadata": {},
   "outputs": [],
   "source": [
    "Ans: In Python, we can access a substring of a string using slicing. The general syntax for slicing is:"
   ]
  },
  {
   "cell_type": "code",
   "execution_count": null,
   "id": "375b831a-fae8-45eb-b01c-691d808bc3e2",
   "metadata": {},
   "outputs": [],
   "source": [
    "substring = string[start:end:step]"
   ]
  },
  {
   "cell_type": "code",
   "execution_count": null,
   "id": "44575091-0c95-4da0-ae67-a77a4e2814a5",
   "metadata": {},
   "outputs": [],
   "source": [
    "(1) start: The index where the substring begins (inclusive).\n",
    "(2) end: The index where the substring ends (exclusive).\n",
    "(3) step: The step value for slicing (default is 1)."
   ]
  },
  {
   "cell_type": "code",
   "execution_count": null,
   "id": "8e2be1a2-62d2-4132-bff6-ce1118a0acbd",
   "metadata": {},
   "outputs": [],
   "source": [
    "Example:"
   ]
  },
  {
   "cell_type": "code",
   "execution_count": 57,
   "id": "dfbc4f30-156d-494e-97bd-28a34ed43f11",
   "metadata": {},
   "outputs": [
    {
     "name": "stdout",
     "output_type": "stream",
     "text": [
      "world\n"
     ]
    }
   ],
   "source": [
    "s = \"Hello, world!\"\n",
    "substring = s[7:12]\n",
    "print(substring)  "
   ]
  },
  {
   "cell_type": "code",
   "execution_count": null,
   "id": "af808e1c-566d-4651-b371-4174caa584de",
   "metadata": {},
   "outputs": [],
   "source": [
    "Q20. How can you remove specific characters from a string in Python?"
   ]
  },
  {
   "cell_type": "code",
   "execution_count": null,
   "id": "09c3597e-ab93-43ee-ad6e-ef6627a3844d",
   "metadata": {},
   "outputs": [],
   "source": [
    "Ans: The 'replace()' method is straightforward for removing specific characters. It replaces occurrences of a specified character or substring with"
   ]
  },
  {
   "cell_type": "code",
   "execution_count": null,
   "id": "8552c80a-4149-4105-8391-9a1fbdbc2270",
   "metadata": {},
   "outputs": [],
   "source": [
    "another string, which can be an empty string if we want to remove it."
   ]
  },
  {
   "cell_type": "code",
   "execution_count": 59,
   "id": "8e60e4bd-3661-4e69-a9b0-24489086ad9e",
   "metadata": {},
   "outputs": [
    {
     "name": "stdout",
     "output_type": "stream",
     "text": [
      "Hello world!\n"
     ]
    }
   ],
   "source": [
    "s = \"Hello, world!\"\n",
    "result = s.replace(\",\", \"\")\n",
    "print(result)"
   ]
  },
  {
   "cell_type": "code",
   "execution_count": null,
   "id": "91e115b5-fb1f-4f6c-8daf-62bc33571a24",
   "metadata": {},
   "outputs": [],
   "source": []
  }
 ],
 "metadata": {
  "kernelspec": {
   "display_name": "Python 3 (ipykernel)",
   "language": "python",
   "name": "python3"
  },
  "language_info": {
   "codemirror_mode": {
    "name": "ipython",
    "version": 3
   },
   "file_extension": ".py",
   "mimetype": "text/x-python",
   "name": "python",
   "nbconvert_exporter": "python",
   "pygments_lexer": "ipython3",
   "version": "3.12.4"
  }
 },
 "nbformat": 4,
 "nbformat_minor": 5
}

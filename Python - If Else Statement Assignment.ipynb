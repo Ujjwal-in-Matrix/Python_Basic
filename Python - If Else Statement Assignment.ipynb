{
 "cells": [
  {
   "cell_type": "code",
   "execution_count": null,
   "id": "666ae292-c412-4891-9701-ec9a5ca6a1b3",
   "metadata": {},
   "outputs": [],
   "source": [
    "Q1. Write a program to calculate the electricity bill\n",
    "using only if statement? (accept number of unit from user)\n",
    "according to the following criteria:\n",
    "\n",
    "Unit                                    Price\n",
    "First 100 units                       no charge\n",
    "Next 100 units                        Rs 5 per unit\n",
    "After 200 units                       Rs 10 per unit\n",
    "(For example, if input unit is 350 than total bill amount is Rs2000). Lets explain...\n",
    "For first 100 no charges\n",
    "Now you have 250 unit remaining\n",
    "100-200 you need to pay – 100*5 = 500\n",
    "Now 200-100 you need to pay 150*10 = 1500\n",
    "Total = 500+1500 = 2000"
   ]
  },
  {
   "cell_type": "code",
   "execution_count": 5,
   "id": "90e682b5-10f0-4809-9bf3-46724bfc7786",
   "metadata": {},
   "outputs": [
    {
     "name": "stdin",
     "output_type": "stream",
     "text": [
      "Enter the number of units consumed:  3456\n"
     ]
    },
    {
     "name": "stdout",
     "output_type": "stream",
     "text": [
      "Total bill amount: Rs 33060\n"
     ]
    }
   ],
   "source": [
    "# Program to calculate electricity bill based on the given criteria\n",
    "\n",
    "# Accept the number of units consumed from the user\n",
    "units = int(input(\"Enter the number of units consumed: \"))\n",
    "\n",
    "# Initialize the total bill amount\n",
    "bill_amount = 0\n",
    "\n",
    "# Calculate bill based on the units consumed\n",
    "if units <= 100:\n",
    "    # No charge for the first 100 units\n",
    "    bill_amount = 0\n",
    "elif units <= 200:\n",
    "    # For the next 100 units (between 100 and 200 units)\n",
    "    bill_amount = (units - 100) * 5\n",
    "else:\n",
    "    # For units above 200\n",
    "    bill_amount = (100 * 5) + (units - 200) * 10\n",
    "\n",
    "# Display the total bill amount\n",
    "print(f\"Total bill amount: Rs {bill_amount}\")\n"
   ]
  },
  {
   "cell_type": "code",
   "execution_count": null,
   "id": "b20d36b7-d072-4750-a1d2-25b1eab61dc8",
   "metadata": {},
   "outputs": [],
   "source": [
    "Q2. Write a program to accept percentage from the user and display the grade according to the following criteria:\n",
    "\n",
    "Marks                                    Grade\n",
    "> 90                                       A\n",
    "> 80 and <= 90                             B\n",
    ">= 60 and <= 80                            C\n",
    "below 60                                   D"
   ]
  },
  {
   "cell_type": "code",
   "execution_count": 19,
   "id": "ce2421c6-7603-498d-b31a-e6205bde27e0",
   "metadata": {},
   "outputs": [
    {
     "name": "stdin",
     "output_type": "stream",
     "text": [
      "Enter your percentage:  99.9\n"
     ]
    },
    {
     "name": "stdout",
     "output_type": "stream",
     "text": [
      "Your grade is: A\n"
     ]
    }
   ],
   "source": [
    "# Program to display grade based on percentage\n",
    "\n",
    "# Accept percentage from the user\n",
    "percentage = float(input(\"Enter your percentage: \"))\n",
    "\n",
    "# Determine the grade based on the given criteria\n",
    "if percentage > 90:\n",
    "    grade = \"A\"\n",
    "elif percentage > 80 and percentage <= 90:\n",
    "    grade = \"B\"\n",
    "elif percentage >= 60 and percentage <= 80:\n",
    "    grade = \"C\"\n",
    "else:\n",
    "    grade = \"D\"\n",
    "\n",
    "# Display the grade\n",
    "print(f\"Your grade is: {grade}\")"
   ]
  },
  {
   "cell_type": "code",
   "execution_count": null,
   "id": "d297680c-5b8b-42be-bd1d-9f79e3b35f6e",
   "metadata": {},
   "outputs": [],
   "source": [
    "Q3. Accept the age of 4 people and display the youngest one."
   ]
  },
  {
   "cell_type": "code",
   "execution_count": 25,
   "id": "494acd22-30a4-42ab-b67a-67d3ab60ebd7",
   "metadata": {},
   "outputs": [
    {
     "name": "stdin",
     "output_type": "stream",
     "text": [
      "Enter the age of person 1:  60\n",
      "Enter the age of person 2:  75\n",
      "Enter the age of person 3:  80\n",
      "Enter the age of person 4:  79\n"
     ]
    },
    {
     "name": "stdout",
     "output_type": "stream",
     "text": [
      "The youngest age is: 60\n"
     ]
    }
   ],
   "source": [
    "age1 = int(input(\"Enter the age of person 1: \"))\n",
    "age2 = int(input(\"Enter the age of person 2: \"))\n",
    "age3 = int(input(\"Enter the age of person 3: \"))\n",
    "age4 = int(input(\"Enter the age of person 4: \"))\n",
    "\n",
    "# Find the youngest age using if statements\n",
    "youngest = age1\n",
    "\n",
    "if age2 < youngest:\n",
    "    youngest = age2\n",
    "\n",
    "if age3 < youngest:\n",
    "    youngest = age3\n",
    "\n",
    "if age4 < youngest:\n",
    "    youngest = age4\n",
    "\n",
    "# Display the youngest age\n",
    "print(f\"The youngest age is: {youngest}\")\n"
   ]
  },
  {
   "cell_type": "code",
   "execution_count": null,
   "id": "9b52b92d-0d60-4725-bdff-bd4b4f3405ac",
   "metadata": {},
   "outputs": [],
   "source": [
    "Q4. A company decided to give bonus to employee\n",
    "according to following criteria:\n",
    "\n",
    "Time period of Service                    Bonus\n",
    "\n",
    "More than 10 years                         10%\n",
    "\n",
    ">=6 and <=10                               8%\n",
    "\n",
    "Less than 6 years                          5%\n",
    "\n",
    "Ask user for their salary and years of service and print the net bonus amount."
   ]
  },
  {
   "cell_type": "code",
   "execution_count": 29,
   "id": "7b03698c-7af1-4269-9a96-68af3ae337ef",
   "metadata": {},
   "outputs": [
    {
     "name": "stdin",
     "output_type": "stream",
     "text": [
      "Enter your salary:  2500000\n",
      "Enter your years of service:  17\n"
     ]
    },
    {
     "name": "stdout",
     "output_type": "stream",
     "text": [
      "Your net bonus amount is: 250000.0\n"
     ]
    }
   ],
   "source": [
    "# Get user input\n",
    "salary = float(input(\"Enter your salary: \"))\n",
    "years_of_service = int(input(\"Enter your years of service: \"))\n",
    "\n",
    "# Calculate bonus percentage based on years of service\n",
    "if years_of_service > 10:\n",
    "    bonus_percentage = 10\n",
    "elif 6 <= years_of_service <= 10:\n",
    "    bonus_percentage = 8\n",
    "else:\n",
    "    bonus_percentage = 5\n",
    "\n",
    "# Calculate net bonus amount\n",
    "bonus_amount = (bonus_percentage / 100) * salary\n",
    "\n",
    "# Print the net bonus amount\n",
    "print(f\"Your net bonus amount is: {bonus_amount}\")"
   ]
  },
  {
   "cell_type": "code",
   "execution_count": null,
   "id": "773e3203-82ab-4c3a-8ef7-1b01033d9c65",
   "metadata": {},
   "outputs": [],
   "source": [
    "Q5. Accept three numbers from the user and display the second largest number."
   ]
  },
  {
   "cell_type": "code",
   "execution_count": 33,
   "id": "6df15ed6-775e-4730-96a2-f3bfe99a2faf",
   "metadata": {},
   "outputs": [
    {
     "name": "stdin",
     "output_type": "stream",
     "text": [
      "Enter the first number:  100\n",
      "Enter the second number:  1234\n",
      "Enter the third number:  13345\n"
     ]
    },
    {
     "name": "stdout",
     "output_type": "stream",
     "text": [
      "The second largest number is: 1234.0\n"
     ]
    }
   ],
   "source": [
    "num1 = float(input(\"Enter the first number: \"))\n",
    "num2 = float(input(\"Enter the second number: \"))\n",
    "num3 = float(input(\"Enter the third number: \"))\n",
    "\n",
    "# Create a list of the numbers\n",
    "numbers = [num1, num2, num3]\n",
    "\n",
    "# Sort the list in descending order\n",
    "numbers.sort(reverse=True)\n",
    "\n",
    "# The second largest number will be the second item in the sorted list\n",
    "second_largest = numbers[1]\n",
    "\n",
    "# Display the second largest number\n",
    "print(f\"The second largest number is: {second_largest}\")"
   ]
  },
  {
   "cell_type": "code",
   "execution_count": null,
   "id": "edb524a3-902e-40b1-93b9-58290b1fec5a",
   "metadata": {},
   "outputs": [],
   "source": [
    "Q6. Accept the marked price from the user and calculate the Net amount as (Marked Price – Discount) to pay according to following criteria:\n",
    "\n",
    "Marked Price                         Discount\n",
    ">10000                                  20%\n",
    ">7000 and <=10000                       15%\n",
    "<=7000                                  10%"
   ]
  },
  {
   "cell_type": "code",
   "execution_count": 37,
   "id": "4ffe5df9-3d50-44e1-93aa-6fd947a670c4",
   "metadata": {},
   "outputs": [
    {
     "name": "stdin",
     "output_type": "stream",
     "text": [
      "Enter the marked price:  10000\n"
     ]
    },
    {
     "name": "stdout",
     "output_type": "stream",
     "text": [
      "The net amount to pay is: 8500.0\n"
     ]
    }
   ],
   "source": [
    "# Get user input\n",
    "marked_price = float(input(\"Enter the marked price: \"))\n",
    "\n",
    "# Determine the discount percentage based on the marked price\n",
    "if marked_price > 10000:\n",
    "    discount_percentage = 20\n",
    "elif 7000 < marked_price <= 10000:\n",
    "    discount_percentage = 15\n",
    "else:\n",
    "    discount_percentage = 10\n",
    "\n",
    "# Calculate the discount amount\n",
    "discount_amount = (discount_percentage / 100) * marked_price\n",
    "\n",
    "# Calculate the net amount to pay\n",
    "net_amount = marked_price - discount_amount\n",
    "\n",
    "# Display the net amount\n",
    "print(f\"The net amount to pay is: {net_amount}\")"
   ]
  },
  {
   "cell_type": "code",
   "execution_count": null,
   "id": "2c57ceb5-e4de-41e5-abc0-2d72627fca67",
   "metadata": {},
   "outputs": [],
   "source": [
    "Q7. Accept the marks of English, Math and Science, Social Studies Subject and display the stream allotted according to following:\n",
    "\n",
    "All Subjects more than 80 marks —           Science Stream\n",
    "\n",
    "English >80 and Math, Science above 50 —    Commerce Stream\n",
    "\n",
    "English > 80 and social studies > 80 —       Humanities"
   ]
  },
  {
   "cell_type": "code",
   "execution_count": 43,
   "id": "9181abd0-a931-4049-aadb-d474b76cba02",
   "metadata": {},
   "outputs": [
    {
     "name": "stdin",
     "output_type": "stream",
     "text": [
      "Enter the marks for English:  98\n",
      "Enter the marks for Math:  100\n",
      "Enter the marks for Science:  100\n",
      "Enter the marks for Social Studies:  99.9\n"
     ]
    },
    {
     "name": "stdout",
     "output_type": "stream",
     "text": [
      "The allotted stream is: Commerce Stream\n"
     ]
    }
   ],
   "source": [
    "# Get user input for marks\n",
    "english_marks = float(input(\"Enter the marks for English: \"))\n",
    "math_marks = float(input(\"Enter the marks for Math: \"))\n",
    "science_marks = float(input(\"Enter the marks for Science: \"))\n",
    "social_studies_marks = float(input(\"Enter the marks for Social Studies: \"))\n",
    "\n",
    "# Determine the stream based on the marks\n",
    "if english_marks > 80 and math_marks > 50 and science_marks > 50:\n",
    "    stream = \"Commerce Stream\"\n",
    "elif english_marks > 80 and social_studies_marks > 80:\n",
    "    stream = \"Humanities Stream\"\n",
    "elif english_marks > 80 and math_marks > 80 and science_marks > 80 and social_studies_marks > 80:\n",
    "    stream = \"Science Stream\"\n",
    "else:\n",
    "    stream = \"No specific stream allotted\"\n",
    "\n",
    "# Display the stream\n",
    "print(f\"The allotted stream is: {stream}\")\n"
   ]
  },
  {
   "cell_type": "code",
   "execution_count": null,
   "id": "7aeb261a-0fc4-4631-8f8f-7bfcff408f74",
   "metadata": {},
   "outputs": [],
   "source": [
    "Q8. Write a program to display \"Hello\" if a number entered by user is a multiple of five, otherwise print \"Bye\"."
   ]
  },
  {
   "cell_type": "code",
   "execution_count": 47,
   "id": "7e748da2-57db-409c-a620-1181a12b669d",
   "metadata": {},
   "outputs": [
    {
     "name": "stdin",
     "output_type": "stream",
     "text": [
      "Enter a number:  89\n"
     ]
    },
    {
     "name": "stdout",
     "output_type": "stream",
     "text": [
      "Bye\n"
     ]
    }
   ],
   "source": [
    "number = int(input(\"Enter a number: \"))\n",
    "\n",
    "# Check if the number is a multiple of five\n",
    "if number % 5 == 0:\n",
    "    print(\"Hello\")\n",
    "else:\n",
    "    print(\"Bye\")"
   ]
  },
  {
   "cell_type": "code",
   "execution_count": null,
   "id": "58f56448-7b73-4134-8e6a-21ff89374473",
   "metadata": {},
   "outputs": [],
   "source": [
    "Q9. Write a program to check whether the last digit of a number (entered by user) is divisible by 3 or not."
   ]
  },
  {
   "cell_type": "code",
   "execution_count": 55,
   "id": "308c8e6a-853d-401c-958c-1c2917ff3a85",
   "metadata": {},
   "outputs": [
    {
     "name": "stdin",
     "output_type": "stream",
     "text": [
      "Enter a number:  349\n"
     ]
    },
    {
     "name": "stdout",
     "output_type": "stream",
     "text": [
      "The last digit 9 is divisible by 3.\n"
     ]
    }
   ],
   "source": [
    "number = int(input(\"Enter a number: \"))\n",
    "\n",
    "# Extract the last digit of the number\n",
    "last_digit = abs(number) % 10\n",
    "\n",
    "# Check if the last digit is divisible by 3\n",
    "if last_digit % 3 == 0:\n",
    "    print(f\"The last digit {last_digit} is divisible by 3.\")\n",
    "else:\n",
    "    print(f\"The last digit {last_digit} is not divisible by 3.\")"
   ]
  },
  {
   "cell_type": "code",
   "execution_count": null,
   "id": "322d7cb9-1212-4db3-a89c-136be474e45b",
   "metadata": {},
   "outputs": [],
   "source": [
    "Q10. Write a program to check whether a number entered is three-digit number or not."
   ]
  },
  {
   "cell_type": "code",
   "execution_count": 59,
   "id": "228354ff-fcac-4a0d-8ef9-aff72714ead2",
   "metadata": {},
   "outputs": [
    {
     "name": "stdin",
     "output_type": "stream",
     "text": [
      "Enter a number:  778\n"
     ]
    },
    {
     "name": "stdout",
     "output_type": "stream",
     "text": [
      "The number is a three-digit number.\n"
     ]
    }
   ],
   "source": [
    "# Get user input\n",
    "number = int(input(\"Enter a number: \"))\n",
    "\n",
    "# Check if the number is a three-digit number\n",
    "if 100 <= abs(number) <= 999:\n",
    "    print(\"The number is a three-digit number.\")\n",
    "else:\n",
    "    print(\"The number is not a three-digit number.\")"
   ]
  },
  {
   "cell_type": "code",
   "execution_count": null,
   "id": "b1a7a142-cfe1-4406-8982-667b8cafc374",
   "metadata": {},
   "outputs": [],
   "source": []
  }
 ],
 "metadata": {
  "kernelspec": {
   "display_name": "Python 3 (ipykernel)",
   "language": "python",
   "name": "python3"
  },
  "language_info": {
   "codemirror_mode": {
    "name": "ipython",
    "version": 3
   },
   "file_extension": ".py",
   "mimetype": "text/x-python",
   "name": "python",
   "nbconvert_exporter": "python",
   "pygments_lexer": "ipython3",
   "version": "3.12.4"
  }
 },
 "nbformat": 4,
 "nbformat_minor": 5
}

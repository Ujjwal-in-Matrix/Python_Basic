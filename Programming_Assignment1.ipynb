{
 "cells": [
  {
   "cell_type": "code",
   "execution_count": null,
   "id": "fb1592d4-3c75-4524-9614-f1fb72bd91b4",
   "metadata": {},
   "outputs": [],
   "source": [
    "Q1. Write a Python program to print \"Hello Python\"."
   ]
  },
  {
   "cell_type": "code",
   "execution_count": 1,
   "id": "f3c976d4-3420-45bc-b8a5-913c9f20416b",
   "metadata": {},
   "outputs": [
    {
     "name": "stdout",
     "output_type": "stream",
     "text": [
      "Hello Python\n"
     ]
    }
   ],
   "source": [
    "print(\"Hello Python\")"
   ]
  },
  {
   "cell_type": "code",
   "execution_count": null,
   "id": "69a52d52-41ec-489e-8c18-609fb309fa88",
   "metadata": {},
   "outputs": [],
   "source": [
    "Q2. Write a Python program to do arithmetical operations addition and division."
   ]
  },
  {
   "cell_type": "code",
   "execution_count": 7,
   "id": "0613bd5c-c930-44a7-b487-84e1ac1b7037",
   "metadata": {},
   "outputs": [
    {
     "name": "stdin",
     "output_type": "stream",
     "text": [
      "Enter first number:  34\n",
      "Enter second number:  23\n"
     ]
    },
    {
     "name": "stdout",
     "output_type": "stream",
     "text": [
      "The sum of 34 and 23 is 57\n"
     ]
    }
   ],
   "source": [
    "num1 = input('Enter first number: ')    \n",
    "\n",
    "num2 = input('Enter second number: ')    \n",
    "   \n",
    "sum = int(num1) + int(num2)    \n",
    "  \n",
    "print('The sum of {0} and {1} is {2}'.format(num1, num2, sum))  "
   ]
  },
  {
   "cell_type": "code",
   "execution_count": null,
   "id": "1577a681-932c-4181-a798-461bbf41f74c",
   "metadata": {},
   "outputs": [],
   "source": [
    "Q3. Write a Python program to find the area of a triangle."
   ]
  },
  {
   "cell_type": "code",
   "execution_count": 39,
   "id": "a5f808d8-dd71-47b9-86d7-5f7fc2e158eb",
   "metadata": {},
   "outputs": [
    {
     "name": "stdin",
     "output_type": "stream",
     "text": [
      "Enter first number:  12\n",
      "Enter second number:  23\n"
     ]
    },
    {
     "name": "stdout",
     "output_type": "stream",
     "text": [
      "Area of a triangle is 138.0\n"
     ]
    }
   ],
   "source": [
    "num1 = input('Enter first number: ')\n",
    "\n",
    "num2 = input('Enter second number: ')\n",
    "\n",
    "area = 0.5*(float(num1)*float(num2))\n",
    "\n",
    "print('Area of a triangle is {2}'.format(num1, num2, area))"
   ]
  },
  {
   "cell_type": "code",
   "execution_count": null,
   "id": "4f97ba2b-34b3-409c-9b17-504944486163",
   "metadata": {},
   "outputs": [],
   "source": [
    "Q4. Write a Python program to swap two variables."
   ]
  },
  {
   "cell_type": "code",
   "execution_count": 43,
   "id": "c71c8142-f0e9-4b39-8904-fbe1add5bb72",
   "metadata": {},
   "outputs": [
    {
     "name": "stdin",
     "output_type": "stream",
     "text": [
      "Please enter value for P:  23\n",
      "Please enter value for Q:  24\n"
     ]
    },
    {
     "name": "stdout",
     "output_type": "stream",
     "text": [
      "The Value of P after swapping:  24\n",
      "The Value of Q after swapping:  23\n"
     ]
    }
   ],
   "source": [
    "P = int(input(\"Please enter value for P: \"))\n",
    "Q = int(input(\"Please enter value for Q: \"))\n",
    "\n",
    "temp_1 = P\n",
    "P = Q\n",
    "Q = temp_1\n",
    "\n",
    "print(\"The Value of P after swapping: \", P)\n",
    "print(\"The Value of Q after swapping: \", Q)"
   ]
  },
  {
   "cell_type": "code",
   "execution_count": null,
   "id": "d0b61a4e-7cd4-4f19-88cd-b0260b556aa7",
   "metadata": {},
   "outputs": [],
   "source": [
    "Q5. Write a Python program to generate a random number."
   ]
  },
  {
   "cell_type": "code",
   "execution_count": 47,
   "id": "5d9638a2-c03b-40f0-9366-628e6e5a56f4",
   "metadata": {},
   "outputs": [
    {
     "name": "stdout",
     "output_type": "stream",
     "text": [
      "Random Number between 0 to 1: 0.6805267619980747\n",
      "Random Number between 0 to 1: 0.49492332864452515\n",
      "Random Number between 0 to 1: 0.47047440416390474\n"
     ]
    }
   ],
   "source": [
    "import random\n",
    "\n",
    "n = random.random()\n",
    "\n",
    "print(\"Random Number between 0 to 1:\",n)\n",
    "print(\"Random Number between 0 to 1:\", random.random())\n",
    "print(\"Random Number between 0 to 1:\", random.random())"
   ]
  },
  {
   "cell_type": "code",
   "execution_count": null,
   "id": "a32af111-6c2e-4ccc-92f9-fd82aaaf3c1e",
   "metadata": {},
   "outputs": [],
   "source": []
  }
 ],
 "metadata": {
  "kernelspec": {
   "display_name": "Python 3 (ipykernel)",
   "language": "python",
   "name": "python3"
  },
  "language_info": {
   "codemirror_mode": {
    "name": "ipython",
    "version": 3
   },
   "file_extension": ".py",
   "mimetype": "text/x-python",
   "name": "python",
   "nbconvert_exporter": "python",
   "pygments_lexer": "ipython3",
   "version": "3.12.4"
  }
 },
 "nbformat": 4,
 "nbformat_minor": 5
}
